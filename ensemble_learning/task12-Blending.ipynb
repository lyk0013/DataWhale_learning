{
 "cells": [
  {
   "cell_type": "markdown",
   "id": "architectural-puzzle",
   "metadata": {},
   "source": [
    "**Blending**  \n",
    "\n",
    "基于一个简单的思想：**与其使用一些简单的函数（例如，bagging的硬投票），来集成所有预测器的预测；我们为什么不训练一个模型来执行这个聚合呢？**"
   ]
  },
  {
   "cell_type": "markdown",
   "id": "japanese-exposure",
   "metadata": {},
   "source": [
    "**Blending集成学习的步骤：**  \n",
    "* 1，将训练集划分为两部分：train1和train2\n",
    "* 2，第一层，使用train1训练多个预测器\n",
    "* 3，第二层，使用上层训练好的预测器和train2，输出预测值\n",
    "* 4，第三层，使用上层输出的预测值作为训练数据，train2的标签作为目标因变量，训练一个预测器，Blending模型全部训练完成\n",
    "* 5，预测时，输入样本，输出为第三层的预测结果，同时也是Blending集成模型的预测结果。"
   ]
  },
  {
   "cell_type": "code",
   "execution_count": 22,
   "id": "adolescent-turtle",
   "metadata": {},
   "outputs": [],
   "source": [
    "# 导入库\n",
    "import numpy as np\n",
    "import pandas as pd\n",
    "import matplotlib.pyplot as plt\n",
    "import seaborn as sns\n",
    "\n",
    "from sklearn import datasets\n",
    "from sklearn.datasets import make_blobs\n",
    "from sklearn.model_selection import train_test_split\n",
    "\n",
    "from sklearn.svm import SVC\n",
    "from sklearn.ensemble import RandomForestClassifier\n",
    "from sklearn.neighbors import KNeighborsClassifier\n",
    "from sklearn.linear_model import LinearRegression\n",
    "from sklearn.model_selection import cross_val_score"
   ]
  },
  {
   "cell_type": "code",
   "execution_count": 18,
   "id": "stupid-canada",
   "metadata": {},
   "outputs": [
    {
     "name": "stdout",
     "output_type": "stream",
     "text": [
      "The shape of X_train1: (5600, 2)\n",
      "The shape of X_train2: (2400, 2)\n",
      "The shape of X_test: (2000, 2)\n"
     ]
    }
   ],
   "source": [
    "# 创建数据\n",
    "data, target = make_blobs(n_samples=10000, \n",
    "                          n_features=2,\n",
    "                          centers=2, \n",
    "                          random_state=1, \n",
    "                          cluster_std=1.0)\n",
    "# 划分训练集和测试集\n",
    "X_train, X_test, y_train, y_test = train_test_split(data, target, test_size=0.2,\n",
    "                                                   random_state=1)\n",
    "# 划分训练集\n",
    "X_train1, X_train2, y_train1, y_train2 = train_test_split(X_train, \n",
    "                                                          y_train, \n",
    "                                                          test_size=0.3,\n",
    "                                                         random_state=1)\n",
    "\n",
    "print(\"The shape of X_train1:\",X_train1.shape)\n",
    "print(\"The shape of X_train2:\",X_train2.shape)\n",
    "print(\"The shape of X_test:\",X_test.shape)"
   ]
  },
  {
   "cell_type": "code",
   "execution_count": 30,
   "id": "south-jonathan",
   "metadata": {},
   "outputs": [],
   "source": [
    "# 定义Blending模型\n",
    "\n",
    "# 输入层模型\n",
    "layer1 = [SVC(probability=True), \n",
    "          RandomForestClassifier(n_estimators=5,\n",
    "                                n_jobs=-1,\n",
    "                                criterion='gini'),\n",
    "         KNeighborsClassifier()]\n",
    "\n",
    "# 输出层模型\n",
    "layer2 = LinearRegression()"
   ]
  },
  {
   "cell_type": "code",
   "execution_count": 31,
   "id": "improved-apparatus",
   "metadata": {},
   "outputs": [
    {
     "data": {
      "text/plain": [
       "LinearRegression()"
      ]
     },
     "execution_count": 31,
     "metadata": {},
     "output_type": "execute_result"
    }
   ],
   "source": [
    "# 训练Blending模型\n",
    "train2_features = np.zeros((X_train2.shape[0],len(layer1)))  # 初始化验证集结果\n",
    "\n",
    "# 训练输入层模型\n",
    "for i,clf in enumerate(layer1):\n",
    "    clf.fit(X_train1,y_train1)\n",
    "    feature = clf.predict_proba(X_train2)[:, 1]\n",
    "    train2_features[:,i] = feature\n",
    "    \n",
    "# 训练输出层模型\n",
    "layer2.fit(train2_features,y_train2)"
   ]
  },
  {
   "cell_type": "code",
   "execution_count": 34,
   "id": "inclusive-fisher",
   "metadata": {},
   "outputs": [
    {
     "data": {
      "text/plain": [
       "array([1., 1., 1., 1., 1.])"
      ]
     },
     "execution_count": 34,
     "metadata": {},
     "output_type": "execute_result"
    }
   ],
   "source": [
    "# 测试Blending模型\n",
    "test_features = np.zeros((X_test.shape[0],len(layer1)))\n",
    "for i,clf in enumerate(layer1):\n",
    "    feature = clf.predict_proba(X_test)[:, 1]\n",
    "    test_features[:,i] = feature\n",
    "cross_val_score(layer2,test_features,y_test,cv=5)"
   ]
  },
  {
   "cell_type": "markdown",
   "id": "compact-footwear",
   "metadata": {},
   "source": [
    "**Iris 案例**"
   ]
  },
  {
   "cell_type": "code",
   "execution_count": 56,
   "id": "massive-rating",
   "metadata": {},
   "outputs": [],
   "source": [
    "from sklearn.linear_model import LogisticRegression"
   ]
  },
  {
   "cell_type": "code",
   "execution_count": 39,
   "id": "competitive-democracy",
   "metadata": {},
   "outputs": [],
   "source": [
    "iris = datasets.load_iris()\n",
    "data = iris.data\n",
    "target = iris.target"
   ]
  },
  {
   "cell_type": "code",
   "execution_count": 43,
   "id": "automated-microphone",
   "metadata": {},
   "outputs": [],
   "source": [
    "# 划分训练集和测试集\n",
    "X_train, X_test, y_train, y_test = train_test_split(data, target, test_size=0.2,\n",
    "                                                   random_state=1)\n",
    "# 划分训练集\n",
    "X_train1, X_train2, y_train1, y_train2 = train_test_split(X_train, \n",
    "                                                          y_train, \n",
    "                                                          test_size=0.3,\n",
    "                                                         random_state=1)"
   ]
  },
  {
   "cell_type": "code",
   "execution_count": 57,
   "id": "varied-mauritius",
   "metadata": {},
   "outputs": [],
   "source": [
    "# 定义Blending模型\n",
    "\n",
    "# 输入层模型\n",
    "layer1 = [SVC(probability=True), \n",
    "          RandomForestClassifier(n_estimators=200,\n",
    "                                n_jobs=-1,\n",
    "                                criterion='gini'),\n",
    "         KNeighborsClassifier()]\n",
    "\n",
    "# 输出层模型\n",
    "layer2 = LogisticRegression()"
   ]
  },
  {
   "cell_type": "code",
   "execution_count": 58,
   "id": "instant-activation",
   "metadata": {},
   "outputs": [
    {
     "data": {
      "text/plain": [
       "LogisticRegression()"
      ]
     },
     "execution_count": 58,
     "metadata": {},
     "output_type": "execute_result"
    }
   ],
   "source": [
    "# 训练Blending模型\n",
    "train2_features = np.zeros((X_train2.shape[0],len(layer1)))  # 初始化验证集结果\n",
    "\n",
    "# 训练输入层模型\n",
    "for i,clf in enumerate(layer1):\n",
    "    clf.fit(X_train1,y_train1)\n",
    "    feature = clf.predict_proba(X_train2)[:, 1]\n",
    "    train2_features[:,i] = feature\n",
    "    \n",
    "# 训练输出层模型\n",
    "layer2.fit(train2_features,y_train2)"
   ]
  },
  {
   "cell_type": "code",
   "execution_count": 59,
   "id": "characteristic-nothing",
   "metadata": {},
   "outputs": [
    {
     "data": {
      "text/plain": [
       "array([0.83333333, 0.83333333, 0.83333333, 0.66666667, 0.66666667])"
      ]
     },
     "execution_count": 59,
     "metadata": {},
     "output_type": "execute_result"
    }
   ],
   "source": [
    "# 测试Blending模型\n",
    "test_features = np.zeros((X_test.shape[0],len(layer1)))\n",
    "for i,clf in enumerate(layer1):\n",
    "    feature = clf.predict_proba(X_test)[:, 1]\n",
    "    test_features[:,i] = feature\n",
    "cross_val_score(layer2,test_features,y_test,cv=5)"
   ]
  },
  {
   "cell_type": "code",
   "execution_count": null,
   "id": "chronic-manufacturer",
   "metadata": {},
   "outputs": [],
   "source": []
  },
  {
   "cell_type": "code",
   "execution_count": null,
   "id": "professional-canberra",
   "metadata": {},
   "outputs": [],
   "source": []
  }
 ],
 "metadata": {
  "kernelspec": {
   "display_name": "Python 3",
   "language": "python",
   "name": "python3"
  },
  "language_info": {
   "codemirror_mode": {
    "name": "ipython",
    "version": 3
   },
   "file_extension": ".py",
   "mimetype": "text/x-python",
   "name": "python",
   "nbconvert_exporter": "python",
   "pygments_lexer": "ipython3",
   "version": "3.9.2"
  }
 },
 "nbformat": 4,
 "nbformat_minor": 5
}
