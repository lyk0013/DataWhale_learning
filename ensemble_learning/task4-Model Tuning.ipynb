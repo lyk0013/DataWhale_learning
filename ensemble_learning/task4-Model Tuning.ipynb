{
 "cells": [
  {
   "cell_type": "markdown",
   "id": "approximate-warren",
   "metadata": {},
   "source": [
    "![Model Tuning](images/model-tuning.png)"
   ]
  },
  {
   "cell_type": "markdown",
   "id": "silver-circle",
   "metadata": {},
   "source": [
    "**import libraries**"
   ]
  },
  {
   "cell_type": "code",
   "execution_count": 1,
   "id": "urban-shell",
   "metadata": {},
   "outputs": [],
   "source": [
    "import numpy as np\n",
    "from sklearn.svm import SVR\n",
    "from sklearn.pipeline import make_pipeline, Pipeline\n",
    "from sklearn.preprocessing import StandardScaler  # 对数据进行预处理（标准化）\n",
    "from sklearn.model_selection import GridSearchCV, cross_val_score, KFold\n",
    "from sklearn import datasets"
   ]
  },
  {
   "cell_type": "markdown",
   "id": "visible-hawaiian",
   "metadata": {},
   "source": [
    "**load data**"
   ]
  },
  {
   "cell_type": "code",
   "execution_count": 2,
   "id": "strategic-quantity",
   "metadata": {},
   "outputs": [],
   "source": [
    "boston = datasets.load_boston()\n",
    "X = boston.data\n",
    "y = boston.target\n",
    "features = boston.feature_names"
   ]
  },
  {
   "cell_type": "markdown",
   "id": "palestinian-cigarette",
   "metadata": {},
   "source": [
    "**base model**"
   ]
  },
  {
   "cell_type": "code",
   "execution_count": 3,
   "id": "exciting-train",
   "metadata": {},
   "outputs": [
    {
     "name": "stdout",
     "output_type": "stream",
     "text": [
      "CV accuracy: 0.187 +/- 0.649\n",
      "[ 0.74943112  0.72244189  0.18237941  0.04934372  0.56317173  0.05674098\n",
      "  0.59932148  0.20889779 -1.61288394  0.35310766]\n"
     ]
    }
   ],
   "source": [
    "# Pipeline 和 make_pipeline的区别：\n",
    "#    Campare with Pipeline, the only difference is that make_pipeline generates names for steps antomatically.\n",
    "# StandardScaler, 去均值和方差，且针对每一个特征维度来做，而不是样本\n",
    "# cross_val_score：使用了交叉验证\n",
    "pipe_SVR = make_pipeline(StandardScaler(), SVR())\n",
    "score = cross_val_score(estimator=pipe_SVR, \n",
    "                       X = X,\n",
    "                       y = y,\n",
    "                       scoring = 'r2',\n",
    "                       cv = 10)\n",
    "print('CV accuracy: %.3f +/- %.3f' % (np.mean(score), np.std(score)))\n",
    "print(score)"
   ]
  },
  {
   "cell_type": "markdown",
   "id": "incorporate-hughes",
   "metadata": {},
   "source": [
    "**Tuning**"
   ]
  },
  {
   "cell_type": "code",
   "execution_count": 8,
   "id": "breathing-situation",
   "metadata": {},
   "outputs": [
    {
     "name": "stdout",
     "output_type": "stream",
     "text": [
      "0.6081303070817723 {'svr__C': 1000.0, 'svr__gamma': 0.001, 'svr__kernel': 'rbf'}\n"
     ]
    }
   ],
   "source": [
    "# 网格搜索 GridsearvhCV\n",
    "# SVR要调整的超参数：C ,kernel, gamma, \n",
    "pipe_svr = Pipeline([(\"StanScaler\", StandardScaler()),\n",
    "                    ('svr', SVR())\n",
    "                    ])\n",
    "param_range = [0.0001,0.001,0.01,0.1,1.0,10.0,100.0,1000.0]\n",
    "# using a dedicated <estimator>__<parameter> syntax\n",
    "param_grid = [\n",
    "    {\"svr__C\":param_range, 'svr__kernel':['linear']},\n",
    "    {'svr__C': param_range, 'svr__gamma':param_range, 'svr__kernel':['rbf']}\n",
    "]\n",
    "\n",
    "gs = GridSearchCV(\n",
    "    estimator=pipe_svr,\n",
    "    param_grid=param_grid,\n",
    "    scoring='r2',  # 评估模型指标\n",
    "    n_jobs= -1,  # 使用所有CPU核心\n",
    "    cv =10  # 交叉验证的次数\n",
    ")\n",
    "gs = gs.fit(X, y)\n",
    "print(gs.best_score_, gs.best_params_)"
   ]
  },
  {
   "cell_type": "code",
   "execution_count": 9,
   "id": "jewish-nothing",
   "metadata": {},
   "outputs": [
    {
     "name": "stdout",
     "output_type": "stream",
     "text": [
      "0.5117224743197005 {'svr__C': 3.2463227052033377, 'svr__gamma': 0.02452854772065871, 'svr__kernel': 'rbf'}\n"
     ]
    }
   ],
   "source": [
    "# 随机搜索 RandomizedSearchCV\n",
    "from sklearn.model_selection import RandomizedSearchCV\n",
    "from scipy.stats import uniform  #  引入均匀分布设置参数\n",
    "\n",
    "pipe_svr = Pipeline([(\"StanScaler\", StandardScaler()),\n",
    "                    ('svr', SVR())\n",
    "                    ])\n",
    "distributions = {\n",
    "    'svr__C': uniform(loc=1.0,scale=4),  # 必须提供rvs抽样方法\n",
    "    'svr__gamma': uniform(loc=0, scale=4), \n",
    "    'svr__kernel':['rbf']\n",
    "}\n",
    "\n",
    "rs = RandomizedSearchCV(\n",
    "    estimator=pipe_svr,\n",
    "    param_distributions=distributions,\n",
    "    scoring = 'r2',\n",
    "    n_jobs = -1,\n",
    "    cv = 10\n",
    ")\n",
    "\n",
    "rs = rs.fit(X, y)\n",
    "\n",
    "print(rs.best_score_, rs.best_params_)"
   ]
  },
  {
   "cell_type": "code",
   "execution_count": 12,
   "id": "fewer-sewing",
   "metadata": {},
   "outputs": [
    {
     "data": {
      "text/plain": [
       "3.63572665341015"
      ]
     },
     "execution_count": 12,
     "metadata": {},
     "output_type": "execute_result"
    }
   ],
   "source": [
    "uniform(loc=1.0,scale=4).rvs()"
   ]
  },
  {
   "cell_type": "code",
   "execution_count": null,
   "id": "lonely-rehabilitation",
   "metadata": {},
   "outputs": [],
   "source": []
  }
 ],
 "metadata": {
  "kernelspec": {
   "display_name": "Python 3",
   "language": "python",
   "name": "python3"
  },
  "language_info": {
   "codemirror_mode": {
    "name": "ipython",
    "version": 3
   },
   "file_extension": ".py",
   "mimetype": "text/x-python",
   "name": "python",
   "nbconvert_exporter": "python",
   "pygments_lexer": "ipython3",
   "version": "3.8.5"
  },
  "latex_envs": {
   "LaTeX_envs_menu_present": true,
   "autoclose": false,
   "autocomplete": true,
   "bibliofile": "biblio.bib",
   "cite_by": "apalike",
   "current_citInitial": 1,
   "eqLabelWithNumbers": true,
   "eqNumInitial": 1,
   "hotkeys": {
    "equation": "Ctrl-E",
    "itemize": "Ctrl-I"
   },
   "labels_anchors": false,
   "latex_user_defs": false,
   "report_style_numbering": false,
   "user_envs_cfg": false
  }
 },
 "nbformat": 4,
 "nbformat_minor": 5
}
