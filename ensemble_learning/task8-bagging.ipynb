{
 "cells": [
  {
   "cell_type": "markdown",
   "id": "noticed-freeze",
   "metadata": {},
   "source": [
    "![image.png](images/ensemble_learning.png)"
   ]
  },
  {
   "cell_type": "markdown",
   "id": "major-decision",
   "metadata": {},
   "source": [
    "**bagging默认的基模型是树模型**\n",
    "![image.png](images/decision_tree.png)"
   ]
  },
  {
   "cell_type": "markdown",
   "id": "attractive-injection",
   "metadata": {},
   "source": [
    "**随机森林是bagging方法的一个典型应用（决策树为基模型），而且做了优化。**  \n",
    "**但相应的bagging方法对其他基模型（非决策树），仍然适用。**"
   ]
  },
  {
   "cell_type": "code",
   "execution_count": 5,
   "id": "affecting-titanium",
   "metadata": {},
   "outputs": [],
   "source": [
    "# 加载库\n",
    "from numpy import mean, std\n",
    "\n",
    "from sklearn.datasets import make_classification\n",
    "from sklearn.model_selection import cross_val_score\n",
    "from sklearn.model_selection import RepeatedStratifiedKFold\n",
    "from sklearn.ensemble import BaggingClassifier"
   ]
  },
  {
   "cell_type": "code",
   "execution_count": 9,
   "id": "steady-vitamin",
   "metadata": {},
   "outputs": [],
   "source": [
    "# 创建样本数据\n",
    "\"\"\"\n",
    "make_classification(), 随机产生分类数据：\n",
    "n_samples:样本数量\n",
    "n_features:特征数量\n",
    "n_informative: 有用特征数量\n",
    "n_redundant: 冗余特征数量\n",
    "n_classes: 类别数量\n",
    "\"\"\"\n",
    "X,y = make_classification(n_samples=1000, n_features=20,\n",
    "                          n_informative=15, \n",
    "                          n_redundant=5, random_state=5)"
   ]
  },
  {
   "cell_type": "code",
   "execution_count": 12,
   "id": "naked-paint",
   "metadata": {},
   "outputs": [
    {
     "name": "stdout",
     "output_type": "stream",
     "text": [
      "Accuracy: 0.855 (0.033)\n"
     ]
    }
   ],
   "source": [
    "# 训练 bagging\n",
    "model = BaggingClassifier(bootstrap=True)\n",
    "cv = RepeatedStratifiedKFold(n_splits=10, n_repeats=3, random_state=1)\n",
    "# erroe_score: 当预测器出现拟合错误时，raise error。\n",
    "n_scores = cross_val_score(model, X, y, scoring='accuracy', cv=cv, n_jobs=-1,\n",
    "                          error_score='raise')\n",
    "print('Accuracy: %.3f (%.3f)' % (mean(n_scores), std(n_scores)))"
   ]
  },
  {
   "cell_type": "code",
   "execution_count": 13,
   "id": "passive-monthly",
   "metadata": {},
   "outputs": [
    {
     "name": "stdout",
     "output_type": "stream",
     "text": [
      "Accuracy: 0.799 (0.044)\n"
     ]
    }
   ],
   "source": [
    "# use pasting method\n",
    "model = BaggingClassifier(bootstrap=False)\n",
    "cv = RepeatedStratifiedKFold(n_splits=10, n_repeats=3, random_state=1)\n",
    "n_scores = cross_val_score(model, X, y, scoring='accuracy', cv=cv, n_jobs=-1,\n",
    "                          error_score='raise')\n",
    "print('Accuracy: %.3f (%.3f)' % (mean(n_scores), std(n_scores)))"
   ]
  },
  {
   "cell_type": "markdown",
   "id": "piano-disclaimer",
   "metadata": {},
   "source": [
    "**通常情况下，bagging相比pasting，训练子集数据具有更高的多样性；bagging生成的模型通常性能更好。**"
   ]
  },
  {
   "cell_type": "markdown",
   "id": "narrative-bible",
   "metadata": {},
   "source": [
    "**包外评估**  \n",
    "\n",
    "对于bagging(有放回)的采样方法，在max_samples=size(train_datasets)的情况下，平均每个预测器只能见到63%的样本（随机采样），仍然有37%的样本没有被使用；在这种情况下，可以使用这些包外数据（oob）充当测试集。"
   ]
  },
  {
   "cell_type": "code",
   "execution_count": 14,
   "id": "continuous-blind",
   "metadata": {},
   "outputs": [],
   "source": [
    "from sklearn.model_selection import train_test_split"
   ]
  },
  {
   "cell_type": "code",
   "execution_count": 17,
   "id": "first-connectivity",
   "metadata": {},
   "outputs": [],
   "source": [
    "train_X, test_X, train_y, test_y = train_test_split(X, y)"
   ]
  },
  {
   "cell_type": "code",
   "execution_count": 16,
   "id": "advisory-paste",
   "metadata": {},
   "outputs": [],
   "source": [
    "bag_clf = BaggingClassifier(\n",
    "    n_estimators=50, # default=10\n",
    "    bootstrap=True,\n",
    "    n_jobs=-1,\n",
    "    oob_score=True\n",
    ")"
   ]
  },
  {
   "cell_type": "code",
   "execution_count": 18,
   "id": "adjusted-staff",
   "metadata": {},
   "outputs": [
    {
     "data": {
      "text/plain": [
       "BaggingClassifier(n_estimators=50, n_jobs=-1, oob_score=True)"
      ]
     },
     "execution_count": 18,
     "metadata": {},
     "output_type": "execute_result"
    }
   ],
   "source": [
    "# fit\n",
    "bag_clf.fit(train_X, train_y)"
   ]
  },
  {
   "cell_type": "code",
   "execution_count": 19,
   "id": "passive-boost",
   "metadata": {},
   "outputs": [
    {
     "data": {
      "text/plain": [
       "0.8573333333333333"
      ]
     },
     "execution_count": 19,
     "metadata": {},
     "output_type": "execute_result"
    }
   ],
   "source": [
    "# oob score\n",
    "bag_clf.oob_score_"
   ]
  },
  {
   "cell_type": "code",
   "execution_count": 20,
   "id": "progressive-piano",
   "metadata": {},
   "outputs": [
    {
     "data": {
      "text/plain": [
       "0.876"
      ]
     },
     "execution_count": 20,
     "metadata": {},
     "output_type": "execute_result"
    }
   ],
   "source": [
    "# evluate\n",
    "from sklearn.metrics import accuracy_score\n",
    "\n",
    "y_pred = bag_clf.predict(test_X)\n",
    "accuracy_score(test_y, y_pred)"
   ]
  },
  {
   "cell_type": "markdown",
   "id": "innovative-essence",
   "metadata": {},
   "source": [
    "**随机子空间**\n",
    "\n",
    "BaggingClassifier类也支持对特征进行采样，随机选取子特征空间。  \n",
    "max_features: 特征数，类似max_samples  \n",
    "bootstrap_features: 是否放回"
   ]
  },
  {
   "cell_type": "code",
   "execution_count": 24,
   "id": "introductory-germany",
   "metadata": {},
   "outputs": [],
   "source": [
    "bag_clf = BaggingClassifier(\n",
    "    n_estimators=10, # default=10\n",
    "    max_features=15,\n",
    "    bootstrap=True,\n",
    "    n_jobs=-1\n",
    ")"
   ]
  },
  {
   "cell_type": "code",
   "execution_count": 25,
   "id": "tough-kingdom",
   "metadata": {},
   "outputs": [
    {
     "name": "stdout",
     "output_type": "stream",
     "text": [
      "Accuracy: 0.858 (0.032)\n"
     ]
    }
   ],
   "source": [
    "cv = RepeatedStratifiedKFold(n_splits=10, n_repeats=3, random_state=1)\n",
    "n_scores = cross_val_score(bag_clf, X, y, scoring='accuracy', cv=cv, n_jobs=-1)\n",
    "print('Accuracy: %.3f (%.3f)' % (mean(n_scores), std(n_scores)))"
   ]
  },
  {
   "cell_type": "markdown",
   "id": "approved-formula",
   "metadata": {},
   "source": [
    "**可以看到，相同个数的基模型的集成效果：随机子空间的准确度和方差都优于bagging.**\n",
    "（当然，这可能是特例；不过，也多了一种可能性。）"
   ]
  },
  {
   "cell_type": "code",
   "execution_count": null,
   "id": "seventh-welding",
   "metadata": {},
   "outputs": [],
   "source": []
  }
 ],
 "metadata": {
  "kernelspec": {
   "display_name": "Python 3",
   "language": "python",
   "name": "python3"
  },
  "language_info": {
   "codemirror_mode": {
    "name": "ipython",
    "version": 3
   },
   "file_extension": ".py",
   "mimetype": "text/x-python",
   "name": "python",
   "nbconvert_exporter": "python",
   "pygments_lexer": "ipython3",
   "version": "3.9.2"
  }
 },
 "nbformat": 4,
 "nbformat_minor": 5
}
