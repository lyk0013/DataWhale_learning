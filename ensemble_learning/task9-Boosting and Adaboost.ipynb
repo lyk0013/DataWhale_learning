{
 "cells": [
  {
   "cell_type": "markdown",
   "id": "radio-courtesy",
   "metadata": {},
   "source": [
    "![image.png](images/ensemble_learning.png)"
   ]
  },
  {
   "cell_type": "markdown",
   "id": "recent-beads",
   "metadata": {},
   "source": [
    "**强可学习和弱可学习**  \n",
    "在PAC（概率近似正确）学习的框架下：  \n",
    "一个概念（类），如果存在一个多项式的学习算法能够学习它，并且正确率很高，那么就称这个**概念**是**强可学习**的；  \n",
    "一个概念（类），如果存在一个多项式的学习算法能够学习它，学习的正确率仅比随机猜测略好，那么就称这个**概念**是**弱可学习**的； \n",
    "\n",
    "同时，**一个概念是强可学习的充要条件是这个概念是弱可学习的。**  \n",
    "\n",
    "通常，弱学习算法比强学习算法容易的多；那如何将弱学习算法提升到强学习算法呢？\n",
    "\n",
    "最具代表性的就是**AdaBoost**."
   ]
  },
  {
   "cell_type": "markdown",
   "id": "intermediate-acting",
   "metadata": {},
   "source": [
    "**AdaBoost的原理：**  \n",
    "1，提高前一轮被错误分类的样本权重，降低前一轮正确分类的样本权重  \n",
    "2，对各个弱分类器进行加权投票的方式集成"
   ]
  },
  {
   "cell_type": "markdown",
   "id": "included-library",
   "metadata": {},
   "source": [
    "**AdaBoost算法步骤：**  \n",
    "**首先明确几个用到的概念：**  \n",
    "* 样本集（样本数为n）\n",
    "* w (样本权重，样本集中每个样本都有对应的权重)  \n",
    "* $\\alpha$  (模型权重，弱学习器的模型权重)\n",
    "* e (弱学习器的错误率)\n",
    "\n",
    "**第一轮训练**  \n",
    "* **1.初始样本权重**  \n",
    "$w_1=[\\frac{1}{n} …… \\frac{1}{n}](共n项)$\n",
    "* **2.计算错误率**  \n",
    "$e_1 = \\sum_{i=1}^n w_{1,i}I(h_m(x)\\ne y_i)$  \n",
    "* **3.计算模型一权重**  \n",
    "$\\alpha_1 = \\frac{1}{2}\\lg(\\frac{1-e_1}{e_1})$  \n",
    "\n",
    "**第二轮训练**  \n",
    "* **1.更新样本权重**  \n",
    "$Z_1=\\sum_{1}^n w_{1,i}exp(-y_i\\alpha_i h_i(x_i))$  \n",
    "$w_{2,i} = \\frac{w_{1,i}}{Z_1}exp(-y_i\\alpha_i h_i(x_i)$  \n",
    "* **2.计算错误率**  \n",
    "$e_2 = \\sum_{i=1}^n w_{2,i}I(h_m(x)\\ne y_i)$  \n",
    "* **3.计算模型一权重**  \n",
    "$\\alpha_2 = \\frac{1}{2}\\lg(\\frac{1-e_2}{e_2})$\n",
    "\n",
    "**第三轮训练**  \n",
    "* **1.更新样本权重**  \n",
    "$Z_2=\\sum_{1}^n w_{2,i}exp(-y_i\\alpha_i h_i(x_i))$  \n",
    "$w_{3,i} = \\frac{w_{2,i}}{Z_2}exp(-y_i\\alpha_i h_i(x_i)$  \n",
    "* **2.计算错误率**  \n",
    "$e_3 = \\sum_{i=1}^n w_{3,i}I(h_m(x)\\ne y_i)$  \n",
    "* **3.计算模型一权重**  \n",
    "$\\alpha_3 = \\frac{1}{2}\\lg(\\frac{1-e_3}{e_3})$\n",
    "\n",
    "**最终集成模型**  \n",
    "$H(x) = sign(\\sum_{m=1}^3 \\alpha_m h_m(x))$"
   ]
  },
  {
   "cell_type": "markdown",
   "id": "premium-framing",
   "metadata": {},
   "source": [
    "## 葡萄酒数据集\n",
    "\n",
    "该数据集包含了178个样本和13个特征，我们的任务是根据这些数据预测红酒属于哪一个类别。\n",
    "https://archive.ics.uci.edu/ml/machine-learning-databases/wine/wine.data "
   ]
  },
  {
   "cell_type": "code",
   "execution_count": 18,
   "id": "inappropriate-scholarship",
   "metadata": {},
   "outputs": [],
   "source": [
    "# 导入库\n",
    "import numpy as np\n",
    "import pandas as pd\n",
    "import matplotlib.pyplot as plt\n",
    "import seaborn as sns\n",
    "\n",
    "from sklearn.preprocessing import LabelEncoder\n",
    "from sklearn.model_selection import train_test_split\n",
    "from sklearn.tree import DecisionTreeClassifier\n",
    "from sklearn.ensemble import AdaBoostClassifier\n",
    "from sklearn.metrics import accuracy_score"
   ]
  },
  {
   "cell_type": "markdown",
   "id": "distant-lunch",
   "metadata": {},
   "source": [
    "**数据处理**"
   ]
  },
  {
   "cell_type": "code",
   "execution_count": 7,
   "id": "negative-fabric",
   "metadata": {},
   "outputs": [],
   "source": [
    "url = \"https://archive.ics.uci.edu/ml/machine-learning-databases/wine/wine.data\"\n",
    "wine = pd.read_csv(url)\n",
    "wine.columns = ['Class label', 'Alcohol', 'Malic acid', 'Ash', 'Alcalinity of ash','Magnesium', 'Total phenols','Flavanoids', 'Nonflavanoid phenols', \n",
    "                'Proanthocyanins','Color intensity', 'Hue','OD280/OD315 of diluted wines','Proline']"
   ]
  },
  {
   "cell_type": "code",
   "execution_count": 9,
   "id": "employed-approach",
   "metadata": {},
   "outputs": [
    {
     "name": "stdout",
     "output_type": "stream",
     "text": [
      "2    71\n",
      "1    58\n",
      "3    48\n",
      "Name: Class label, dtype: int64\n"
     ]
    },
    {
     "data": {
      "text/html": [
       "<div>\n",
       "<style scoped>\n",
       "    .dataframe tbody tr th:only-of-type {\n",
       "        vertical-align: middle;\n",
       "    }\n",
       "\n",
       "    .dataframe tbody tr th {\n",
       "        vertical-align: top;\n",
       "    }\n",
       "\n",
       "    .dataframe thead th {\n",
       "        text-align: right;\n",
       "    }\n",
       "</style>\n",
       "<table border=\"1\" class=\"dataframe\">\n",
       "  <thead>\n",
       "    <tr style=\"text-align: right;\">\n",
       "      <th></th>\n",
       "      <th>Class label</th>\n",
       "      <th>Alcohol</th>\n",
       "      <th>Malic acid</th>\n",
       "      <th>Ash</th>\n",
       "      <th>Alcalinity of ash</th>\n",
       "      <th>Magnesium</th>\n",
       "      <th>Total phenols</th>\n",
       "      <th>Flavanoids</th>\n",
       "      <th>Nonflavanoid phenols</th>\n",
       "      <th>Proanthocyanins</th>\n",
       "      <th>Color intensity</th>\n",
       "      <th>Hue</th>\n",
       "      <th>OD280/OD315 of diluted wines</th>\n",
       "      <th>Proline</th>\n",
       "    </tr>\n",
       "  </thead>\n",
       "  <tbody>\n",
       "    <tr>\n",
       "      <th>0</th>\n",
       "      <td>1</td>\n",
       "      <td>13.20</td>\n",
       "      <td>1.78</td>\n",
       "      <td>2.14</td>\n",
       "      <td>11.2</td>\n",
       "      <td>100</td>\n",
       "      <td>2.65</td>\n",
       "      <td>2.76</td>\n",
       "      <td>0.26</td>\n",
       "      <td>1.28</td>\n",
       "      <td>4.38</td>\n",
       "      <td>1.05</td>\n",
       "      <td>3.40</td>\n",
       "      <td>1050</td>\n",
       "    </tr>\n",
       "    <tr>\n",
       "      <th>1</th>\n",
       "      <td>1</td>\n",
       "      <td>13.16</td>\n",
       "      <td>2.36</td>\n",
       "      <td>2.67</td>\n",
       "      <td>18.6</td>\n",
       "      <td>101</td>\n",
       "      <td>2.80</td>\n",
       "      <td>3.24</td>\n",
       "      <td>0.30</td>\n",
       "      <td>2.81</td>\n",
       "      <td>5.68</td>\n",
       "      <td>1.03</td>\n",
       "      <td>3.17</td>\n",
       "      <td>1185</td>\n",
       "    </tr>\n",
       "    <tr>\n",
       "      <th>2</th>\n",
       "      <td>1</td>\n",
       "      <td>14.37</td>\n",
       "      <td>1.95</td>\n",
       "      <td>2.50</td>\n",
       "      <td>16.8</td>\n",
       "      <td>113</td>\n",
       "      <td>3.85</td>\n",
       "      <td>3.49</td>\n",
       "      <td>0.24</td>\n",
       "      <td>2.18</td>\n",
       "      <td>7.80</td>\n",
       "      <td>0.86</td>\n",
       "      <td>3.45</td>\n",
       "      <td>1480</td>\n",
       "    </tr>\n",
       "    <tr>\n",
       "      <th>3</th>\n",
       "      <td>1</td>\n",
       "      <td>13.24</td>\n",
       "      <td>2.59</td>\n",
       "      <td>2.87</td>\n",
       "      <td>21.0</td>\n",
       "      <td>118</td>\n",
       "      <td>2.80</td>\n",
       "      <td>2.69</td>\n",
       "      <td>0.39</td>\n",
       "      <td>1.82</td>\n",
       "      <td>4.32</td>\n",
       "      <td>1.04</td>\n",
       "      <td>2.93</td>\n",
       "      <td>735</td>\n",
       "    </tr>\n",
       "    <tr>\n",
       "      <th>4</th>\n",
       "      <td>1</td>\n",
       "      <td>14.20</td>\n",
       "      <td>1.76</td>\n",
       "      <td>2.45</td>\n",
       "      <td>15.2</td>\n",
       "      <td>112</td>\n",
       "      <td>3.27</td>\n",
       "      <td>3.39</td>\n",
       "      <td>0.34</td>\n",
       "      <td>1.97</td>\n",
       "      <td>6.75</td>\n",
       "      <td>1.05</td>\n",
       "      <td>2.85</td>\n",
       "      <td>1450</td>\n",
       "    </tr>\n",
       "  </tbody>\n",
       "</table>\n",
       "</div>"
      ],
      "text/plain": [
       "   Class label  Alcohol  Malic acid   Ash  Alcalinity of ash  Magnesium  \\\n",
       "0            1    13.20        1.78  2.14               11.2        100   \n",
       "1            1    13.16        2.36  2.67               18.6        101   \n",
       "2            1    14.37        1.95  2.50               16.8        113   \n",
       "3            1    13.24        2.59  2.87               21.0        118   \n",
       "4            1    14.20        1.76  2.45               15.2        112   \n",
       "\n",
       "   Total phenols  Flavanoids  Nonflavanoid phenols  Proanthocyanins  \\\n",
       "0           2.65        2.76                  0.26             1.28   \n",
       "1           2.80        3.24                  0.30             2.81   \n",
       "2           3.85        3.49                  0.24             2.18   \n",
       "3           2.80        2.69                  0.39             1.82   \n",
       "4           3.27        3.39                  0.34             1.97   \n",
       "\n",
       "   Color intensity   Hue  OD280/OD315 of diluted wines  Proline  \n",
       "0             4.38  1.05                          3.40     1050  \n",
       "1             5.68  1.03                          3.17     1185  \n",
       "2             7.80  0.86                          3.45     1480  \n",
       "3             4.32  1.04                          2.93      735  \n",
       "4             6.75  1.05                          2.85     1450  "
      ]
     },
     "execution_count": 9,
     "metadata": {},
     "output_type": "execute_result"
    }
   ],
   "source": [
    "print(wine['Class label'].value_counts())\n",
    "wine.head()"
   ]
  },
  {
   "cell_type": "code",
   "execution_count": 13,
   "id": "soviet-oracle",
   "metadata": {},
   "outputs": [],
   "source": [
    "# 数据预处理\n",
    "# 去除标签分类1的数据，仅考虑二分类\n",
    "# 目前只取两个特征\n",
    "wine = wine[wine['Class label']!=1]\n",
    "y = wine['Class label'].values\n",
    "X = wine[['Alcohol','OD280/OD315 of diluted wines']].values\n",
    "\n",
    "# 标签转为二进制编码\n",
    "le = LabelEncoder()\n",
    "y = le.fit_transform(y)\n",
    "\n",
    "# 拆分验证集和测试机\n",
    "# stratify参数代表了按照y的类别等比例抽样\n",
    "X_train,X_test,y_train,y_test = train_test_split(X,y,\n",
    "                                                 test_size=0.2,\n",
    "                                                 random_state=1,\n",
    "                                                 stratify=y)"
   ]
  },
  {
   "cell_type": "markdown",
   "id": "assured-shirt",
   "metadata": {},
   "source": [
    "**模型训练**"
   ]
  },
  {
   "cell_type": "code",
   "execution_count": 20,
   "id": "judicial-number",
   "metadata": {},
   "outputs": [
    {
     "name": "stdout",
     "output_type": "stream",
     "text": [
      "Decision tree train/test accuracies 0.916/0.875\n"
     ]
    }
   ],
   "source": [
    "#决策树基模型\n",
    "tree = DecisionTreeClassifier(criterion='entropy', random_state=1, max_depth=1)\n",
    "tree = tree.fit(X_train, y_train)\n",
    "\n",
    "# predict\n",
    "y_train_pred = tree.predict(X_train)\n",
    "y_test_pred = tree.predict(X_test)\n",
    "tree_train = accuracy_score(y_train,y_train_pred)\n",
    "tree_test = accuracy_score(y_test,y_test_pred)\n",
    "print('Decision tree train/test accuracies %.3f/%.3f' % (tree_train,tree_test))"
   ]
  },
  {
   "cell_type": "code",
   "execution_count": 21,
   "id": "european-usage",
   "metadata": {},
   "outputs": [
    {
     "name": "stdout",
     "output_type": "stream",
     "text": [
      "Adaboost train/test accuracies 1.000/0.917\n"
     ]
    }
   ],
   "source": [
    "# Adaboost\n",
    "ada = AdaBoostClassifier(base_estimator=tree, n_estimators=500, \n",
    "                         learning_rate=0.1,\n",
    "                         random_state=1\n",
    "                        )\n",
    "ada = ada.fit(X_train, y_train)\n",
    "\n",
    "# predict\n",
    "y_train_pred = ada.predict(X_train)\n",
    "y_test_pred = ada.predict(X_test)\n",
    "ada_train = accuracy_score(y_train,y_train_pred)\n",
    "ada_test = accuracy_score(y_test,y_test_pred)\n",
    "print('Adaboost train/test accuracies %.3f/%.3f' % (ada_train,ada_test))"
   ]
  },
  {
   "cell_type": "markdown",
   "id": "handy-webster",
   "metadata": {},
   "source": [
    "**显然，AdaBoost优于决策树模型。  \n",
    "但训练集和测试集之间的性能相差比较大，下面用决策边界的图像来解释。**"
   ]
  },
  {
   "cell_type": "markdown",
   "id": "thick-regular",
   "metadata": {},
   "source": [
    "**决策边界**"
   ]
  },
  {
   "cell_type": "code",
   "execution_count": 22,
   "id": "worth-webster",
   "metadata": {},
   "outputs": [
    {
     "data": {
      "image/png": "[encoded data removed]",
      "text/plain": [
       "<Figure size 864x432 with 2 Axes>"
      ]
     },
     "metadata": {
      "needs_background": "light"
     },
     "output_type": "display_data"
    }
   ],
   "source": [
    "# 画出单层决策树与Adaboost的决策边界：\n",
    "x_min = X_train[:, 0].min() - 1\n",
    "x_max = X_train[:, 0].max() + 1\n",
    "y_min = X_train[:, 1].min() - 1\n",
    "y_max = X_train[:, 1].max() + 1\n",
    "xx, yy = np.meshgrid(np.arange(x_min, x_max, 0.1),np.arange(y_min, y_max, 0.1))\n",
    "f, axarr = plt.subplots(nrows=1, ncols=2,sharex='col',sharey='row',figsize=(12, 6))\n",
    "for idx, clf, tt in zip([0, 1],[tree, ada],['Decision tree', 'Adaboost']):\n",
    "    clf.fit(X_train, y_train)\n",
    "    Z = clf.predict(np.c_[xx.ravel(), yy.ravel()])\n",
    "    Z = Z.reshape(xx.shape)\n",
    "    axarr[idx].contourf(xx, yy, Z, alpha=0.3)\n",
    "    axarr[idx].scatter(X_train[y_train==0, 0],X_train[y_train==0, 1],c='blue', marker='^')\n",
    "    axarr[idx].scatter(X_train[y_train==1, 0],X_train[y_train==1, 1],c='red', marker='o')\n",
    "    axarr[idx].set_title(tt)\n",
    "axarr[0].set_ylabel('Alcohol', fontsize=12)\n",
    "plt.tight_layout()\n",
    "plt.text(0, -0.2,s='OD280/OD315 of diluted wines',ha='center',va='center',fontsize=12,transform=axarr[1].transAxes)\n",
    "plt.show()"
   ]
  },
  {
   "cell_type": "markdown",
   "id": "sexual-address",
   "metadata": {},
   "source": [
    "**从图中可以看出，AdaBoost 的决策边界要复杂的多；显然，AdaBoost提升了模型复杂度，出现了过拟合，导致训练集和测试集相差挺大。**"
   ]
  },
  {
   "cell_type": "code",
   "execution_count": null,
   "id": "assumed-round",
   "metadata": {},
   "outputs": [],
   "source": []
  }
 ],
 "metadata": {
  "kernelspec": {
   "display_name": "Python 3",
   "language": "python",
   "name": "python3"
  },
  "language_info": {
   "codemirror_mode": {
    "name": "ipython",
    "version": 3
   },
   "file_extension": ".py",
   "mimetype": "text/x-python",
   "name": "python",
   "nbconvert_exporter": "python",
   "pygments_lexer": "ipython3",
   "version": "3.9.2"
  }
 },
 "nbformat": 4,
 "nbformat_minor": 5
}
