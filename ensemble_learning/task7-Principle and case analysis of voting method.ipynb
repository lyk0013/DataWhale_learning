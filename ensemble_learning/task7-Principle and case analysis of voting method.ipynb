{
 "cells": [
  {
   "cell_type": "markdown",
   "id": "based-canadian",
   "metadata": {},
   "source": [
    "![image.png](images/ensemble_learning.png)"
   ]
  },
  {
   "cell_type": "markdown",
   "id": "liquid-recommendation",
   "metadata": {},
   "source": [
    "## 投票法\n",
    "\n",
    "### 1. 硬投票和软投票哪种方式更好？\n",
    "投票法分为硬投票和软投票两种方式，有些情况下，两种方式可以得出完全不同的结论。  \n",
    "因此，一般情况下，优先使用**软投票**方式，因为它给与那些高度自信的投票更高的权重。\n",
    "### 2. 基模型的选取\n",
    "* 基模型之间的效果不能差别太大，如果某个基模型的效果相对太差的话，有可能会改变预测结果；\n",
    "* 基模型之间的应该有较小的同质性，应该使用多种相互独立，不同算法的分类器。"
   ]
  },
  {
   "cell_type": "markdown",
   "id": "flexible-knock",
   "metadata": {},
   "source": [
    "### 基于sklearn的投票法案例\n",
    "* 分类 VotingClassifier\n",
    "* 回归 VotingRegressor"
   ]
  },
  {
   "cell_type": "code",
   "execution_count": 21,
   "id": "stuck-region",
   "metadata": {},
   "outputs": [],
   "source": [
    "# 导入库\n",
    "import numpy as np\n",
    "\n",
    "from sklearn.pipeline import make_pipeline\n",
    "from sklearn.preprocessing import StandardScaler\n",
    "from sklearn.linear_model import LogisticRegression\n",
    "from sklearn.svm import SVC\n",
    "from sklearn.neighbors import KNeighborsClassifier\n",
    "from sklearn.ensemble import VotingClassifier\n",
    "from sklearn.model_selection import RepeatedStratifiedKFold\n",
    "from sklearn.model_selection import cross_val_score\n",
    "\n",
    "from matplotlib import pyplot"
   ]
  },
  {
   "cell_type": "code",
   "execution_count": 24,
   "id": "bearing-packaging",
   "metadata": {},
   "outputs": [],
   "source": [
    "# 创建样本数据\n",
    "from sklearn.datasets import make_classification\n",
    "def get_datasets(n_samples, n_informative, n_redundant):\n",
    "    \"\"\"\n",
    "    make_classification(), 随机产生分类数据：\n",
    "    n_samples:样本数量\n",
    "    n_features:特征数量\n",
    "    n_informative: 有用特征数量\n",
    "    n_redundant: 冗余特征数量\n",
    "    n_classes: 类别数量\n",
    "    \"\"\"\n",
    "    X,y = make_classification(n_samples=n_samples, n_features=20, n_informative=n_informative, \n",
    "                              n_redundant=n_redundant, random_state=2)\n",
    "    return X,y"
   ]
  },
  {
   "cell_type": "code",
   "execution_count": 29,
   "id": "incredible-lunch",
   "metadata": {},
   "outputs": [],
   "source": [
    "# 创建基模型, 使用KNN\n",
    "def get_basic_models():\n",
    "    models = dict()\n",
    "    models['knn1'] = KNeighborsClassifier(n_neighbors=1)\n",
    "    models['knn3'] = KNeighborsClassifier(n_neighbors=3)\n",
    "    models['knn5'] = KNeighborsClassifier(n_neighbors=5)\n",
    "    models['knn7'] = KNeighborsClassifier(n_neighbors=7)\n",
    "    models['knn9'] = KNeighborsClassifier(n_neighbors=9)\n",
    "    models['lr'] = LogisticRegression()\n",
    "    models['svm'] = SVC(probability=True)\n",
    "    return models"
   ]
  },
  {
   "cell_type": "code",
   "execution_count": 10,
   "id": "declared-vegetable",
   "metadata": {},
   "outputs": [],
   "source": [
    "# 创建投票模型\n",
    "def get_emsemble_voting_model(voting_type='soft'):\n",
    "    basic_models = get_basic_models()\n",
    "    # estimators,接收 tuple\n",
    "    ensemble_model = VotingClassifier(estimators=tuple(basic_models.items()), voting=voting_type)\n",
    "\n",
    "    return ensemble_model"
   ]
  },
  {
   "cell_type": "code",
   "execution_count": 11,
   "id": "cooked-ghost",
   "metadata": {},
   "outputs": [],
   "source": [
    "# 整合投票模型和基模型，以便于评价集成模型的性能\n",
    "def get_models():\n",
    "    models = get_basic_models()\n",
    "    models[\"soft_voting\"] = get_emsemble_voting_model('soft')\n",
    "    models[\"hard_voting\"] = get_emsemble_voting_model('hard')\n",
    "    \n",
    "    return models"
   ]
  },
  {
   "cell_type": "code",
   "execution_count": 15,
   "id": "deadly-authorization",
   "metadata": {},
   "outputs": [],
   "source": [
    "# 创建函数，交叉验证训练模型\n",
    "def evaluate_model(model, X, y):\n",
    "    cv = RepeatedStratifiedKFold(n_splits=10, n_repeats=3, random_state=1)\n",
    "    scores = cross_val_score(model, X, y, scoring='accuracy', cv=cv, n_jobs=-1, error_score='raise')\n",
    "    return scores"
   ]
  },
  {
   "cell_type": "code",
   "execution_count": 31,
   "id": "eight-consortium",
   "metadata": {},
   "outputs": [
    {
     "name": "stdout",
     "output_type": "stream",
     "text": [
      ">knn1 0.901 (0.019)\n",
      ">knn3 0.924 (0.018)\n",
      ">knn5 0.932 (0.016)\n",
      ">knn7 0.932 (0.017)\n",
      ">knn9 0.928 (0.020)\n",
      ">lr 0.817 (0.027)\n",
      ">svm 0.934 (0.018)\n",
      ">soft_voting 0.937 (0.013)\n",
      ">hard_voting 0.936 (0.015)\n"
     ]
    },
    {
     "data": {
      "image/png": "[encoded data removed]",
      "text/plain": [
       "<Figure size 432x288 with 1 Axes>"
      ]
     },
     "metadata": {
      "needs_background": "light"
     },
     "output_type": "display_data"
    }
   ],
   "source": [
    "# 开始训练\n",
    "# initial\n",
    "X,y = get_datasets(n_samples=2000, n_informative=15, n_redundant=5)\n",
    "models = get_models()\n",
    "\n",
    "# train and evaluate\n",
    "results, names = [], []\n",
    "for name, model in models.items():\n",
    "    scores = evaluate_model(model, X, y)\n",
    "    results.append(scores)\n",
    "    names.append(name)\n",
    "    print('>%s %.3f (%.3f)' % (name, np.mean(scores), np.std(scores)))\n",
    "    \n",
    "# plot model performance for comparison\n",
    "pyplot.boxplot(results, labels=names, showmeans=True)\n",
    "pyplot.show()"
   ]
  },
  {
   "cell_type": "markdown",
   "id": "level-compiler",
   "metadata": {},
   "source": [
    "**按照Baseline，基模型只用KNN，可能并不能体现出集成模型的性能优点。**   \n",
    "**加入了两种不同的基模型后，可以看到集成的准确率相对于基模型更高，而且有更低的方差。**"
   ]
  },
  {
   "cell_type": "code",
   "execution_count": null,
   "id": "rolled-imaging",
   "metadata": {},
   "outputs": [],
   "source": []
  }
 ],
 "metadata": {
  "kernelspec": {
   "display_name": "Python 3",
   "language": "python",
   "name": "python3"
  },
  "language_info": {
   "codemirror_mode": {
    "name": "ipython",
    "version": 3
   },
   "file_extension": ".py",
   "mimetype": "text/x-python",
   "name": "python",
   "nbconvert_exporter": "python",
   "pygments_lexer": "ipython3",
   "version": "3.9.2"
  }
 },
 "nbformat": 4,
 "nbformat_minor": 5
}
